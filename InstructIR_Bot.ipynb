{
  "cells": [
    {
      "cell_type": "code",
      "execution_count": null,
      "metadata": {
        "colab": {
          "base_uri": "https://localhost:8080/"
        },
        "id": "pLvarqwXF8rx",
        "outputId": "cbbb5a88-8645-4dfb-8243-146f81fe21a2"
      },
      "outputs": [
        {
          "name": "stdout",
          "output_type": "stream",
          "text": [
            "Collecting gradio_client\n",
            "  Downloading gradio_client-0.10.1-py3-none-any.whl (307 kB)\n",
            "\u001b[2K     \u001b[90m━━━━━━━━━━━━━━━━━━━━━━━━━━━━━━━━━━━━━━━━\u001b[0m \u001b[32m307.9/307.9 kB\u001b[0m \u001b[31m5.6 MB/s\u001b[0m eta \u001b[36m0:00:00\u001b[0m\n",
            "\u001b[?25hRequirement already satisfied: fsspec in /usr/local/lib/python3.10/dist-packages (from gradio_client) (2023.6.0)\n",
            "Collecting httpx>=0.24.1 (from gradio_client)\n",
            "  Downloading httpx-0.27.0-py3-none-any.whl (75 kB)\n",
            "\u001b[2K     \u001b[90m━━━━━━━━━━━━━━━━━━━━━━━━━━━━━━━━━━━━━━━━\u001b[0m \u001b[32m75.6/75.6 kB\u001b[0m \u001b[31m11.2 MB/s\u001b[0m eta \u001b[36m0:00:00\u001b[0m\n",
            "\u001b[?25hRequirement already satisfied: huggingface-hub>=0.19.3 in /usr/local/lib/python3.10/dist-packages (from gradio_client) (0.20.3)\n",
            "Requirement already satisfied: packaging in /usr/local/lib/python3.10/dist-packages (from gradio_client) (23.2)\n",
            "Requirement already satisfied: typing-extensions~=4.0 in /usr/local/lib/python3.10/dist-packages (from gradio_client) (4.9.0)\n",
            "Collecting websockets<12.0,>=10.0 (from gradio_client)\n",
            "  Downloading websockets-11.0.3-cp310-cp310-manylinux_2_5_x86_64.manylinux1_x86_64.manylinux_2_17_x86_64.manylinux2014_x86_64.whl (129 kB)\n",
            "\u001b[2K     \u001b[90m━━━━━━━━━━━━━━━━━━━━━━━━━━━━━━━━━━━━━━━━\u001b[0m \u001b[32m129.9/129.9 kB\u001b[0m \u001b[31m17.9 MB/s\u001b[0m eta \u001b[36m0:00:00\u001b[0m\n",
            "\u001b[?25hRequirement already satisfied: anyio in /usr/local/lib/python3.10/dist-packages (from httpx>=0.24.1->gradio_client) (3.7.1)\n",
            "Requirement already satisfied: certifi in /usr/local/lib/python3.10/dist-packages (from httpx>=0.24.1->gradio_client) (2024.2.2)\n",
            "Collecting httpcore==1.* (from httpx>=0.24.1->gradio_client)\n",
            "  Downloading httpcore-1.0.4-py3-none-any.whl (77 kB)\n",
            "\u001b[2K     \u001b[90m━━━━━━━━━━━━━━━━━━━━━━━━━━━━━━━━━━━━━━━━\u001b[0m \u001b[32m77.8/77.8 kB\u001b[0m \u001b[31m12.1 MB/s\u001b[0m eta \u001b[36m0:00:00\u001b[0m\n",
            "\u001b[?25hRequirement already satisfied: idna in /usr/local/lib/python3.10/dist-packages (from httpx>=0.24.1->gradio_client) (3.6)\n",
            "Requirement already satisfied: sniffio in /usr/local/lib/python3.10/dist-packages (from httpx>=0.24.1->gradio_client) (1.3.0)\n",
            "Collecting h11<0.15,>=0.13 (from httpcore==1.*->httpx>=0.24.1->gradio_client)\n",
            "  Downloading h11-0.14.0-py3-none-any.whl (58 kB)\n",
            "\u001b[2K     \u001b[90m━━━━━━━━━━━━━━━━━━━━━━━━━━━━━━━━━━━━━━━━\u001b[0m \u001b[32m58.3/58.3 kB\u001b[0m \u001b[31m8.7 MB/s\u001b[0m eta \u001b[36m0:00:00\u001b[0m\n",
            "\u001b[?25hRequirement already satisfied: filelock in /usr/local/lib/python3.10/dist-packages (from huggingface-hub>=0.19.3->gradio_client) (3.13.1)\n",
            "Requirement already satisfied: requests in /usr/local/lib/python3.10/dist-packages (from huggingface-hub>=0.19.3->gradio_client) (2.31.0)\n",
            "Requirement already satisfied: tqdm>=4.42.1 in /usr/local/lib/python3.10/dist-packages (from huggingface-hub>=0.19.3->gradio_client) (4.66.2)\n",
            "Requirement already satisfied: pyyaml>=5.1 in /usr/local/lib/python3.10/dist-packages (from huggingface-hub>=0.19.3->gradio_client) (6.0.1)\n",
            "Requirement already satisfied: exceptiongroup in /usr/local/lib/python3.10/dist-packages (from anyio->httpx>=0.24.1->gradio_client) (1.2.0)\n",
            "Requirement already satisfied: charset-normalizer<4,>=2 in /usr/local/lib/python3.10/dist-packages (from requests->huggingface-hub>=0.19.3->gradio_client) (3.3.2)\n",
            "Requirement already satisfied: urllib3<3,>=1.21.1 in /usr/local/lib/python3.10/dist-packages (from requests->huggingface-hub>=0.19.3->gradio_client) (2.0.7)\n",
            "Installing collected packages: websockets, h11, httpcore, httpx, gradio_client\n",
            "Successfully installed gradio_client-0.10.1 h11-0.14.0 httpcore-1.0.4 httpx-0.27.0 websockets-11.0.3\n"
          ]
        }
      ],
      "source": [
        "!pip install gradio_client"
      ]
    },
    {
      "cell_type": "code",
      "execution_count": null,
      "metadata": {
        "colab": {
          "base_uri": "https://localhost:8080/"
        },
        "id": "twG5w-FTF5FG",
        "outputId": "8d64a7d0-8f7a-4e97-9416-a1bb23f456f7"
      },
      "outputs": [
        {
          "output_type": "stream",
          "name": "stdout",
          "text": [
            "Loaded as API: https://marcosv-instructir.hf.space/--replicas/srty7/ ✔\n"
          ]
        }
      ],
      "source": [
        "import os\n",
        "import requests\n",
        "from gradio_client import Client\n",
        "\n",
        "TOKEN = 'YOUR_TOKEN'\n",
        "client = Client(\"https://marcosv-instructir.hf.space/--replicas/srty7/\")\n",
        "\n",
        "def get_chat_id(update):\n",
        "    chat_id = update['message']['chat']['id']\n",
        "    return chat_id\n",
        "\n",
        "def send_message(chat_id, text):\n",
        "    url = f'https://api.telegram.org/bot{TOKEN}/sendMessage'\n",
        "    params = {'chat_id': chat_id, 'text': text}\n",
        "    requests.post(url, params=params)\n",
        "\n",
        "def send_photo(chat_id, photo_path):\n",
        "    url = f'https://api.telegram.org/bot{TOKEN}/sendPhoto'\n",
        "    photo_files = {'photo': open(photo_path, 'rb')}\n",
        "    requests.post(url, params={'chat_id': chat_id}, files=photo_files)\n",
        "\n",
        "def download_photo(file_id):\n",
        "    download_url = f'https://api.telegram.org/bot{TOKEN}/getFile?file_id={file_id}'\n",
        "    response = requests.get(download_url)\n",
        "    file_path = response.json()['result']['file_path']\n",
        "    photo_url = f'https://api.telegram.org/file/bot{TOKEN}/{file_path}'\n",
        "    response = requests.get(photo_url)\n",
        "\n",
        "    with open('received_photo.jpg', 'wb') as file:\n",
        "        file.write(response.content)\n",
        "\n",
        "def handle_message(update):\n",
        "    chat_id = get_chat_id(update)\n",
        "    message_text = update['message']['text']\n",
        "\n",
        "    if message_text == '/start':\n",
        "        send_message(chat_id, 'Hello, welcome to bot, please send me the picture you want.')\n",
        "    # elif message_text == '/photo':\n",
        "    #     send_message(chat_id, 'please send me the picture you want.')\n",
        "\n",
        "def handle_photo(update):\n",
        "    chat_id = get_chat_id(update)\n",
        "    file_id = update['message']['photo'][-1]['file_id']\n",
        "\n",
        "    download_photo(file_id)\n",
        "    send_message(chat_id, 'Please enter the desired prompt as \"/prompt YOUR PARAMETER\"')\n",
        "\n",
        "def handle_prompt(update):\n",
        "    chat_id = get_chat_id(update)\n",
        "    parameter_text = update['message']['text']\n",
        "\n",
        "    prompt = parameter_text.split(' ', 1)[1]\n",
        "\n",
        "    result = client.predict(\n",
        "        \"received_photo.jpg\",    # filepath  in 'Input' Image component\n",
        "        prompt,  # str  in 'Prompt' Textbox component\n",
        "        api_name=\"/predict\"\n",
        "    )\n",
        "\n",
        "    # send_message(chat_id, f'result: {result}')\n",
        "    send_message(chat_id, 'Changes applied! Sending new image...')\n",
        "    send_photo(chat_id, result)\n",
        "\n",
        "    os.remove('received_photo.jpg')\n",
        "\n",
        "def main():\n",
        "    offset = None\n",
        "\n",
        "    while True:\n",
        "        updates_url = f'https://api.telegram.org/bot{TOKEN}/getUpdates'\n",
        "        params = {'offset': offset, 'timeout': 30}\n",
        "        response = requests.get(updates_url, params=params)\n",
        "        updates = response.json()['result']\n",
        "\n",
        "        for update in updates:\n",
        "            offset = update['update_id'] + 1\n",
        "\n",
        "            if 'message' in update:\n",
        "                if 'text' in update['message']:\n",
        "                    message_text = update['message']['text']\n",
        "                    if message_text.startswith('/prompt'):\n",
        "                        handle_prompt(update)\n",
        "                    else:\n",
        "                        handle_message(update)\n",
        "                elif 'photo' in update['message']:\n",
        "                    handle_photo(update)\n",
        "\n",
        "if __name__ == '__main__':\n",
        "    main()"
      ]
    }
  ],
  "metadata": {
    "colab": {
      "provenance": []
    },
    "kernelspec": {
      "display_name": "Python 3",
      "name": "python3"
    },
    "language_info": {
      "name": "python"
    }
  },
  "nbformat": 4,
  "nbformat_minor": 0
}